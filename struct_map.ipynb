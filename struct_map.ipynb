{
 "cells": [
  {
   "cell_type": "code",
   "execution_count": 2,
   "id": "e98dbba5-47d5-4209-bc84-9dedfeadc675",
   "metadata": {},
   "outputs": [
    {
     "name": "stdout",
     "output_type": "stream",
     "text": [
      "Motor Pricing Project/\n",
      "│   ├── market pricing.ipynb\n",
      "│   ├── struct_map.ipynb\n",
      "│   ├── models/\n",
      "│   │   ├── glm_model.py\n",
      "│   │   ├── gbm_model.py\n",
      "│   │   ├── explainability.py\n",
      "│   │   ├── data_prep.py\n",
      "│   │   ├── evaluations.py\n"
     ]
    }
   ],
   "source": [
    "import os\n",
    "\n",
    "def list_files(startpath='.'):\n",
    "    exclude_dirs = {'__pycache__', '.ipynb_checkpoints'}\n",
    "\n",
    "    for root, dirs, files in os.walk(startpath):\n",
    "        # Filter out excluded directories\n",
    "        dirs[:] = [d for d in dirs if d not in exclude_dirs]\n",
    "\n",
    "        level = root.replace(startpath, '').count(os.sep)\n",
    "        indent = '│   ' * level + '├── ' if level > 0 else ''\n",
    "        print(f\"{indent}{os.path.basename(root)}/\")\n",
    "        \n",
    "        sub_indent = '│   ' * (level + 1) + '├── '\n",
    "        for f in files:\n",
    "            print(f\"{sub_indent}{f}\")\n",
    "\n",
    "# Run the function\n",
    "list_files(os.getcwd())  # Starts from the current working directory\n"
   ]
  },
  {
   "cell_type": "code",
   "execution_count": null,
   "id": "13c7b626-78ab-462b-b464-c12fe2abc93e",
   "metadata": {},
   "outputs": [],
   "source": []
  }
 ],
 "metadata": {
  "kernelspec": {
   "display_name": "Python 3 (ipykernel)",
   "language": "python",
   "name": "python3"
  },
  "language_info": {
   "codemirror_mode": {
    "name": "ipython",
    "version": 3
   },
   "file_extension": ".py",
   "mimetype": "text/x-python",
   "name": "python",
   "nbconvert_exporter": "python",
   "pygments_lexer": "ipython3",
   "version": "3.11.10"
  }
 },
 "nbformat": 4,
 "nbformat_minor": 5
}
